{
 "cells": [
  {
   "cell_type": "code",
   "execution_count": 15,
   "metadata": {},
   "outputs": [],
   "source": [
    "import pandas as pd \n",
    "import os"
   ]
  },
  {
   "cell_type": "code",
   "execution_count": 16,
   "metadata": {},
   "outputs": [],
   "source": [
    "caption_df = pd.read_csv(\"data/Mname&Captions.csv\")\n",
    "music_folder = 'data/music'"
   ]
  },
  {
   "cell_type": "markdown",
   "metadata": {},
   "source": [
    "### Task to do :-\n",
    "1. Handle CSV with Caption\n",
    "2. Handle Wav file\n",
    "3. Make a new df with all the data combine\n",
    "4. "
   ]
  },
  {
   "cell_type": "code",
   "execution_count": 17,
   "metadata": {},
   "outputs": [],
   "source": [
    "caption_df = caption_df[:10]"
   ]
  },
  {
   "cell_type": "code",
   "execution_count": 18,
   "metadata": {},
   "outputs": [
    {
     "data": {
      "text/html": [
       "<div>\n",
       "<style scoped>\n",
       "    .dataframe tbody tr th:only-of-type {\n",
       "        vertical-align: middle;\n",
       "    }\n",
       "\n",
       "    .dataframe tbody tr th {\n",
       "        vertical-align: top;\n",
       "    }\n",
       "\n",
       "    .dataframe thead th {\n",
       "        text-align: right;\n",
       "    }\n",
       "</style>\n",
       "<table border=\"1\" class=\"dataframe\">\n",
       "  <thead>\n",
       "    <tr style=\"text-align: right;\">\n",
       "      <th></th>\n",
       "      <th>audio</th>\n",
       "      <th>caption</th>\n",
       "    </tr>\n",
       "  </thead>\n",
       "  <tbody>\n",
       "    <tr>\n",
       "      <th>0</th>\n",
       "      <td>drJaSu3AWhQ_0.wav</td>\n",
       "      <td>The low quality recording features a funky blu...</td>\n",
       "    </tr>\n",
       "    <tr>\n",
       "      <th>1</th>\n",
       "      <td>k-J2-Ou1Fm8_4.wav</td>\n",
       "      <td>Single sounds, noises and melodies being playe...</td>\n",
       "    </tr>\n",
       "    <tr>\n",
       "      <th>2</th>\n",
       "      <td>drJaSu3AWhQ_0.wav</td>\n",
       "      <td>The low quality recording features a funky blu...</td>\n",
       "    </tr>\n",
       "    <tr>\n",
       "      <th>3</th>\n",
       "      <td>k-J2-Ou1Fm8_4.wav</td>\n",
       "      <td>Single sounds, noises and melodies being playe...</td>\n",
       "    </tr>\n",
       "    <tr>\n",
       "      <th>4</th>\n",
       "      <td>9jeEfi6nDak_0.wav</td>\n",
       "      <td>This music sounds oriental full of semitones a...</td>\n",
       "    </tr>\n",
       "    <tr>\n",
       "      <th>5</th>\n",
       "      <td>yIFP8fkq8GU_1.wav</td>\n",
       "      <td>THis song contains a piano playing a major cho...</td>\n",
       "    </tr>\n",
       "    <tr>\n",
       "      <th>6</th>\n",
       "      <td>bt7rDryN7G4_2.wav</td>\n",
       "      <td>This music is an electronic guitar instrumenta...</td>\n",
       "    </tr>\n",
       "    <tr>\n",
       "      <th>7</th>\n",
       "      <td>Zxyfhub6nV4_3.wav</td>\n",
       "      <td>This audio holds a church bell ringing loudly ...</td>\n",
       "    </tr>\n",
       "    <tr>\n",
       "      <th>8</th>\n",
       "      <td>1tz4xNRRR4M_3.wav</td>\n",
       "      <td>This lullaby features a fruity male vocal talk...</td>\n",
       "    </tr>\n",
       "    <tr>\n",
       "      <th>9</th>\n",
       "      <td>w09XinexaIY_1.wav</td>\n",
       "      <td>The low quality recording features synchronize...</td>\n",
       "    </tr>\n",
       "  </tbody>\n",
       "</table>\n",
       "</div>"
      ],
      "text/plain": [
       "               audio                                            caption\n",
       "0  drJaSu3AWhQ_0.wav  The low quality recording features a funky blu...\n",
       "1  k-J2-Ou1Fm8_4.wav  Single sounds, noises and melodies being playe...\n",
       "2  drJaSu3AWhQ_0.wav  The low quality recording features a funky blu...\n",
       "3  k-J2-Ou1Fm8_4.wav  Single sounds, noises and melodies being playe...\n",
       "4  9jeEfi6nDak_0.wav  This music sounds oriental full of semitones a...\n",
       "5  yIFP8fkq8GU_1.wav  THis song contains a piano playing a major cho...\n",
       "6  bt7rDryN7G4_2.wav  This music is an electronic guitar instrumenta...\n",
       "7  Zxyfhub6nV4_3.wav  This audio holds a church bell ringing loudly ...\n",
       "8  1tz4xNRRR4M_3.wav  This lullaby features a fruity male vocal talk...\n",
       "9  w09XinexaIY_1.wav  The low quality recording features synchronize..."
      ]
     },
     "execution_count": 18,
     "metadata": {},
     "output_type": "execute_result"
    }
   ],
   "source": [
    "caption_df"
   ]
  },
  {
   "cell_type": "code",
   "execution_count": 19,
   "metadata": {},
   "outputs": [],
   "source": [
    "new_data =pd.DataFrame()"
   ]
  },
  {
   "cell_type": "code",
   "execution_count": 20,
   "metadata": {},
   "outputs": [],
   "source": [
    "import librosa"
   ]
  },
  {
   "cell_type": "code",
   "execution_count": 21,
   "metadata": {},
   "outputs": [],
   "source": [
    "# Define the function to preprocess audio files\n",
    "def add_music(file_path):\n",
    "    y, sr = librosa.load(file_path, sr=None)\n",
    "    mfccs = librosa.feature.mfcc(y=y, sr=sr, n_mfcc=13)\n",
    "    return mfccs.T# Transpose to have time steps as rows"
   ]
  },
  {
   "cell_type": "code",
   "execution_count": 22,
   "metadata": {},
   "outputs": [],
   "source": [
    "new_data[\"music\"] = caption_df[\"audio\"].apply(lambda x: add_music(os.path.join(music_folder, x)))"
   ]
  },
  {
   "cell_type": "code",
   "execution_count": 23,
   "metadata": {},
   "outputs": [
    {
     "data": {
      "text/html": [
       "<div>\n",
       "<style scoped>\n",
       "    .dataframe tbody tr th:only-of-type {\n",
       "        vertical-align: middle;\n",
       "    }\n",
       "\n",
       "    .dataframe tbody tr th {\n",
       "        vertical-align: top;\n",
       "    }\n",
       "\n",
       "    .dataframe thead th {\n",
       "        text-align: right;\n",
       "    }\n",
       "</style>\n",
       "<table border=\"1\" class=\"dataframe\">\n",
       "  <thead>\n",
       "    <tr style=\"text-align: right;\">\n",
       "      <th></th>\n",
       "      <th>music</th>\n",
       "    </tr>\n",
       "  </thead>\n",
       "  <tbody>\n",
       "    <tr>\n",
       "      <th>0</th>\n",
       "      <td>[[-77.95577, 57.150143, 12.284519, 13.885426, ...</td>\n",
       "    </tr>\n",
       "    <tr>\n",
       "      <th>1</th>\n",
       "      <td>[[-57.70024, 79.12726, 15.739094, -3.791172, 2...</td>\n",
       "    </tr>\n",
       "    <tr>\n",
       "      <th>2</th>\n",
       "      <td>[[-77.95577, 57.150143, 12.284519, 13.885426, ...</td>\n",
       "    </tr>\n",
       "    <tr>\n",
       "      <th>3</th>\n",
       "      <td>[[-57.70024, 79.12726, 15.739094, -3.791172, 2...</td>\n",
       "    </tr>\n",
       "    <tr>\n",
       "      <th>4</th>\n",
       "      <td>[[-70.58194, 65.42238, 15.194408, 10.895489, 3...</td>\n",
       "    </tr>\n",
       "    <tr>\n",
       "      <th>5</th>\n",
       "      <td>[[-39.163975, 87.05516, 8.311457, -9.417724, 8...</td>\n",
       "    </tr>\n",
       "    <tr>\n",
       "      <th>6</th>\n",
       "      <td>[[-62.635796, 74.84204, 19.518227, 8.522663, 3...</td>\n",
       "    </tr>\n",
       "    <tr>\n",
       "      <th>7</th>\n",
       "      <td>[[-50.534317, 91.87187, 33.89235, 17.628952, 3...</td>\n",
       "    </tr>\n",
       "    <tr>\n",
       "      <th>8</th>\n",
       "      <td>[[-67.899994, 67.164185, 12.784273, 5.8597994,...</td>\n",
       "    </tr>\n",
       "    <tr>\n",
       "      <th>9</th>\n",
       "      <td>[[-62.284046, 73.64278, 17.52047, 8.26719, 30....</td>\n",
       "    </tr>\n",
       "  </tbody>\n",
       "</table>\n",
       "</div>"
      ],
      "text/plain": [
       "                                               music\n",
       "0  [[-77.95577, 57.150143, 12.284519, 13.885426, ...\n",
       "1  [[-57.70024, 79.12726, 15.739094, -3.791172, 2...\n",
       "2  [[-77.95577, 57.150143, 12.284519, 13.885426, ...\n",
       "3  [[-57.70024, 79.12726, 15.739094, -3.791172, 2...\n",
       "4  [[-70.58194, 65.42238, 15.194408, 10.895489, 3...\n",
       "5  [[-39.163975, 87.05516, 8.311457, -9.417724, 8...\n",
       "6  [[-62.635796, 74.84204, 19.518227, 8.522663, 3...\n",
       "7  [[-50.534317, 91.87187, 33.89235, 17.628952, 3...\n",
       "8  [[-67.899994, 67.164185, 12.784273, 5.8597994,...\n",
       "9  [[-62.284046, 73.64278, 17.52047, 8.26719, 30...."
      ]
     },
     "execution_count": 23,
     "metadata": {},
     "output_type": "execute_result"
    }
   ],
   "source": [
    "new_data"
   ]
  },
  {
   "cell_type": "code",
   "execution_count": 24,
   "metadata": {},
   "outputs": [],
   "source": [
    "import torch"
   ]
  },
  {
   "cell_type": "code",
   "execution_count": 25,
   "metadata": {},
   "outputs": [
    {
     "data": {
      "text/plain": [
       "True"
      ]
     },
     "execution_count": 25,
     "metadata": {},
     "output_type": "execute_result"
    }
   ],
   "source": [
    "torch.cuda.is_available()"
   ]
  },
  {
   "cell_type": "code",
   "execution_count": 26,
   "metadata": {},
   "outputs": [],
   "source": [
    "import pandas as pd\n",
    "from torch.nn.utils.rnn import pad_sequence\n",
    "from collections import Counter\n",
    "import string"
   ]
  },
  {
   "cell_type": "code",
   "execution_count": 29,
   "metadata": {},
   "outputs": [],
   "source": [
    "# Text cleaning and tokenization\n",
    "def preprocess_text(text):\n",
    "    text = text.lower()\n",
    "    text = text.translate(str.maketrans('', '', string.punctuation))\n",
    "    return text.split()\n",
    "\n",
    "# Build vocabulary\n",
    "tokenized_texts = [preprocess_text(text) for text in caption_df['caption']]\n",
    "vocab = Counter(token for text in tokenized_texts for token in text)\n",
    "vocab = {word: idx for idx, (word, _) in enumerate(vocab.items(), start=1)}  # 1 for padding\n",
    "reverse_vocab = {idx: word for word, idx in vocab.items()}\n",
    "\n",
    "# Convert text to numerical indices\n",
    "def text_to_indices(text):\n",
    "    return [vocab.get(token, 0) for token in text]  # 0 is for unknown words\n",
    "\n",
    "indexed_texts = [text_to_indices(text) for text in tokenized_texts]\n",
    "\n",
    "# Pad sequences\n",
    "max_length = max(len(seq) for seq in indexed_texts)\n",
    "padded_sequences = pad_sequence([torch.tensor(seq) for seq in indexed_texts], batch_first=True, padding_value=0)\n"
   ]
  }
 ],
 "metadata": {
  "kernelspec": {
   "display_name": "tiny-tempo-5kRMDcSD-py3.12",
   "language": "python",
   "name": "python3"
  },
  "language_info": {
   "codemirror_mode": {
    "name": "ipython",
    "version": 3
   },
   "file_extension": ".py",
   "mimetype": "text/x-python",
   "name": "python",
   "nbconvert_exporter": "python",
   "pygments_lexer": "ipython3",
   "version": "3.12.3"
  }
 },
 "nbformat": 4,
 "nbformat_minor": 2
}
